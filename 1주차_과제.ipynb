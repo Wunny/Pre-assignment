{
  "nbformat": 4,
  "nbformat_minor": 0,
  "metadata": {
    "colab": {
      "name": "1주차 과제.ipynb",
      "provenance": [],
      "collapsed_sections": [],
      "authorship_tag": "ABX9TyM5cPaLc1ctPwQWHgdhiswq",
      "include_colab_link": true
    },
    "kernelspec": {
      "name": "python3",
      "display_name": "Python 3"
    }
  },
  "cells": [
    {
      "cell_type": "markdown",
      "metadata": {
        "id": "view-in-github",
        "colab_type": "text"
      },
      "source": [
        "<a href=\"https://colab.research.google.com/github/Wunny/Pre-assignment/blob/master/1%EC%A3%BC%EC%B0%A8_%EA%B3%BC%EC%A0%9C.ipynb\" target=\"_parent\"><img src=\"https://colab.research.google.com/assets/colab-badge.svg\" alt=\"Open In Colab\"/></a>"
      ]
    },
    {
      "cell_type": "markdown",
      "metadata": {
        "id": "RRUIAmidy-Yy",
        "colab_type": "text"
      },
      "source": [
        "\n",
        "#__1주차 과제__\n",
        "\n",
        "언어,음성,이미지,자율주행의 분야의 기술을 사용하는 4가지 제품 및 서비스\n",
        "\n",
        "## **1. 언어분야**\n",
        "\n",
        "###  <**소설 쓰는 AI**>\n",
        "\n",
        ">_\" '정신 차리고 말해!' 그녀는 숨을 한 번 몰아 쉬었다.  \n",
        " 몸도 움직이지 않고 있었다. 남는 시간이 더 없었다. 시간이 얼마나 흘렀을까.   \n",
        "나는 숨을 쉬지 않고 말을 토해내고 싶었다. 그녀는 나를 믿지 않았다.“_\n",
        "\n",
        "이 문구는 로맨스 소설 '설명하려 하지 않겠어'에 나오는 문구이다.   \n",
        " KT와 한국콘텐츠진흥원이 총 상금 1억원을 내걸고 국내 처음으로 개최한 AI 소설 공모전에서 최우수상을 거머쥐었다.   \n",
        "####**AI는 어떻게 소설을 쓸까?**\n",
        "\n",
        "-아직 AI 혼자 힘으로 소설을 창작할 수는 없다. 사람이 AI에 학습 데이터를 입력하고 시작 문장을 써야 한다. 또 AI가 사람이 기존에 섰던 문장을 학습했기 때문에 오타가 나올 수 있다.\n",
        "\n",
        " <AI가 소설을 쓰는 과정>   \n",
        " 1. AI가 기존 소설 문장 수백만 개를 학습, 이야기 맥락 이해   \n",
        " 2. 사람이 도입 문장 또는 시공간, 인물 등 배경 정보 입력   \n",
        " 3. AI가 상황 추론해 완전한 소설 문장 작성   \n",
        "\n",
        "\n",
        "---\n",
        "\n",
        "## **2.음성분야**\n",
        "\n",
        "IBM사는 복잡한 주제로 인간과 토론할 수 있는 ‘프로젝트 디베이터 (Project Debater)'를 내놓았다.\n",
        "\n",
        "‘프로젝트 디베이터는 핵심 자연어 처리 (NLP, Natural Language Processing) 기술을 최초로 상용화한 것이다.   \n",
        "이 기술은 사람들이 자연스럽게 이야기하는 방식뿐 아니라 개개인이 사용하는 고유한 관용어까지 이해하도록 만들어졌다.\n",
        "<br></br>\n",
        "* 자연어처리 기술\n",
        "\n",
        " 어드밴스드 센티멘트 애널리시스( Advanced Sentiment Analysis) : 관용어나 구어적 표현을 식별하고 분석할 수 있음.\n",
        "\n",
        " 써머라이제이션(Summarization): 이 기술은 다양한 출처로부터 문자 데이터를 가져와 특정 주제에 관한 말과 글을 요약하여 사용자에게 제공\n",
        "\n",
        " 어드밴스드 토픽 클러스터링(Advanced Topic Clustering): 프로젝트 디베이터에서 얻은 인사이트로부터 탄생한 새로운 토픽 클러스터링 기술은 사용자가 수집되는 데이터를 무리지어(cluster) 관련 정보의 유의미한 \"토픽\"을 생성한 다음 분석   \n",
        "\n",
        "\n",
        "---\n",
        "##**3.이미지분야**##\n",
        "![대체 텍스트](https://insighting.kr/wp-content/uploads/2019/08/ai_6.jpg)\n",
        "\n",
        "인도네시아 스타트업인 그린고(Gringgo)는 쓰레기 문제를 해결하기 위해 머신러닝을 활용한다.    \n",
        "  컴퓨터 비전 기술을 통해 쓰레기의 종류를 파악하고, 이를 처리 시세 데이터와 연결해 주는 것이다.    \n",
        "   그린고의 앱을 이용하면 쓰레기 안에서 높은 가치를 받고 팔 수 있는 것들을 분류할 수 있기 때문에 자연스럽게 재활용품 분리가 가능하다. \n",
        "\n",
        "* 관련기술   \n",
        " SVM(Support vector machine) 머신러닝 모델을 사용한 HOG 특징 추출과 SURF 및 MSER과 같은 특징을 사용한 BoW(Bag of Words) 모델과 경쟁 객체 탐지 ​​속도를 실시간으로 제공하는 최초의 객체 탐지 ​​프레임 워크로 얼굴과 상반신을 포함하여 다양한 객체를 인식하는 데 사용할 수 있는 Viola-Jones 알고리즘 등이 있다.\n",
        "또한 표준 머신러닝 방식을 사용하여   \n",
        "객체 인식을 수행하려면 이미지(또는 비디오)를 모아 각 이미지에서 주요 특징을 선택한다. \n",
        "\n",
        "![대체 텍스트](http://www.aitimes.kr/news/photo/201807/12087_12006_388.png)\n",
        "---\n",
        "## **3.자율주행분야**\n",
        "\n",
        "나무위키에 의하면 \"자율주행자동차\"란 운전자 또는 승객의 조작 없이 자동차 스스로 운행이 가능한 자동차를 말한다 (자동차관리법 제2조 제1호의3)라고 나와 있다.\n",
        "\n",
        "순수 인공지능으로 운행을 해야한다.\n",
        "\n",
        "자율주행은 음성,언어,이미지 다 포함 되어야하는 기술이라 생각한다.   \n",
        "![대체 텍스트](https://news.hmgjournal.com/images_n/contents/about-autonomous-level2.jpg)\n",
        "\n",
        "많은 자동차 업체 목표는 05단계 완전 자율주행으로 보고 있다.\n",
        "\n",
        "자율주행 자동차\n",
        "테슬라,알파벳(구글의 모회사)\n",
        "포드,크루즈(GM) 등이 있으며 최근 현대자동차가 업계6위로 오르기도 했다.\n"
      ]
    }
  ]
}